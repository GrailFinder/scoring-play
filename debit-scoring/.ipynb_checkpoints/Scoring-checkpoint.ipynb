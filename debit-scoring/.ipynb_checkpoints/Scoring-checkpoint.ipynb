{
 "cells": [
  {
   "cell_type": "code",
   "execution_count": 5,
   "metadata": {},
   "outputs": [
    {
     "name": "stdout",
     "output_type": "stream",
     "text": [
      "280942 50000\n",
      "OrderedDict([('tcs_customer_id', '1'), ('bad', ''), ('sample_type', 'test')])\n"
     ]
    },
    {
     "data": {
      "text/plain": [
       "OrderedDict([('tcs_customer_id', '1'),\n",
       "             ('bureau_cd', '2'),\n",
       "             ('bki_request_date', '40767'),\n",
       "             ('inf_confirm_date', '40744'),\n",
       "             ('type', '99'),\n",
       "             ('status', '00'),\n",
       "             ('open_date', '40676'),\n",
       "             ('final_pmt_date', '41040'),\n",
       "             ('fact_close_date', ''),\n",
       "             ('credit_limit', '28967'),\n",
       "             ('currency', 'RUB'),\n",
       "             ('outstanding', '24606'),\n",
       "             ('next_pmt', '2743'),\n",
       "             ('curr_balance_amt', ''),\n",
       "             ('current_delq', '0'),\n",
       "             ('ttl_delq_5', '0'),\n",
       "             ('ttl_delq_5_29', '0'),\n",
       "             ('ttl_delq_30', '0'),\n",
       "             ('ttl_delq_30_59', '0'),\n",
       "             ('ttl_delq_60_89', '0'),\n",
       "             ('ttl_delq_90_plus', '0'),\n",
       "             ('pmt_string_start', '40767'),\n",
       "             ('pmt_string_84m', 'X111'),\n",
       "             ('delq_balance', '0'),\n",
       "             ('max_delq_balance', '0'),\n",
       "             ('interest_rate', '0'),\n",
       "             ('pmt_freq', '3'),\n",
       "             ('relationship', '1')])"
      ]
     },
     "execution_count": 5,
     "metadata": {},
     "output_type": "execute_result"
    }
   ],
   "source": [
    "import csv  # pandas is slow (like more than 2 minutes slow), so csv is bae\n",
    "\n",
    "accounts = list(csv.DictReader(open(\"SAMPLE_ACCOUNTS.csv\"), delimiter=\";\"))\n",
    "customers = list(csv.DictReader(open(\"SAMPLE_CUSTOMERS.csv\"), delimiter=\";\"))\n",
    "\n",
    "print(len(accounts), len(customers))\n",
    "\n",
    "print(customers[0])\n",
    "accounts[0]"
   ]
  },
  {
   "cell_type": "code",
   "execution_count": 6,
   "metadata": {},
   "outputs": [
    {
     "data": {
      "text/plain": [
       "{'CHF', 'EUR', 'RUB', 'USD'}"
      ]
     },
     "execution_count": 6,
     "metadata": {},
     "output_type": "execute_result"
    }
   ],
   "source": [
    "# is there currency that is not RUB?\n",
    "\n",
    "{row[\"currency\"] for row in accounts} # ok, there is"
   ]
  },
  {
   "cell_type": "code",
   "execution_count": 7,
   "metadata": {},
   "outputs": [
    {
     "name": "stdout",
     "output_type": "stream",
     "text": [
      "3 4298\n"
     ]
    }
   ],
   "source": [
    "bad = [row[\"tcs_customer_id\"] for row in customers if row[\"bad\"] == '1']\n",
    "print(bad[0], len(bad))"
   ]
  },
  {
   "cell_type": "code",
   "execution_count": 8,
   "metadata": {},
   "outputs": [
    {
     "data": {
      "text/html": [
       "<div>\n",
       "<style>\n",
       "    .dataframe thead tr:only-child th {\n",
       "        text-align: right;\n",
       "    }\n",
       "\n",
       "    .dataframe thead th {\n",
       "        text-align: left;\n",
       "    }\n",
       "\n",
       "    .dataframe tbody tr th {\n",
       "        vertical-align: top;\n",
       "    }\n",
       "</style>\n",
       "<table border=\"1\" class=\"dataframe\">\n",
       "  <thead>\n",
       "    <tr style=\"text-align: right;\">\n",
       "      <th></th>\n",
       "      <th>tcs_customer_id</th>\n",
       "      <th>bureau_cd</th>\n",
       "      <th>bki_request_date</th>\n",
       "      <th>inf_confirm_date</th>\n",
       "      <th>type</th>\n",
       "      <th>status</th>\n",
       "      <th>open_date</th>\n",
       "      <th>final_pmt_date</th>\n",
       "      <th>fact_close_date</th>\n",
       "      <th>credit_limit</th>\n",
       "      <th>...</th>\n",
       "      <th>ttl_delq_30_59</th>\n",
       "      <th>ttl_delq_60_89</th>\n",
       "      <th>ttl_delq_90_plus</th>\n",
       "      <th>pmt_string_start</th>\n",
       "      <th>pmt_string_84m</th>\n",
       "      <th>delq_balance</th>\n",
       "      <th>max_delq_balance</th>\n",
       "      <th>interest_rate</th>\n",
       "      <th>pmt_freq</th>\n",
       "      <th>relationship</th>\n",
       "    </tr>\n",
       "  </thead>\n",
       "  <tbody>\n",
       "    <tr>\n",
       "      <th>0</th>\n",
       "      <td>1</td>\n",
       "      <td>2</td>\n",
       "      <td>40767</td>\n",
       "      <td>40744</td>\n",
       "      <td>99</td>\n",
       "      <td>00</td>\n",
       "      <td>40676</td>\n",
       "      <td>41040</td>\n",
       "      <td></td>\n",
       "      <td>28967</td>\n",
       "      <td>...</td>\n",
       "      <td>0</td>\n",
       "      <td>0</td>\n",
       "      <td>0</td>\n",
       "      <td>40767</td>\n",
       "      <td>X111</td>\n",
       "      <td>0</td>\n",
       "      <td>0</td>\n",
       "      <td>0</td>\n",
       "      <td>3</td>\n",
       "      <td>1</td>\n",
       "    </tr>\n",
       "    <tr>\n",
       "      <th>1</th>\n",
       "      <td>1</td>\n",
       "      <td>1</td>\n",
       "      <td>40767</td>\n",
       "      <td>39862</td>\n",
       "      <td>99</td>\n",
       "      <td>13</td>\n",
       "      <td>39505</td>\n",
       "      <td>39870</td>\n",
       "      <td>39870</td>\n",
       "      <td>30000</td>\n",
       "      <td>...</td>\n",
       "      <td>0</td>\n",
       "      <td>0</td>\n",
       "      <td>0</td>\n",
       "      <td>39857</td>\n",
       "      <td>111111111111</td>\n",
       "      <td>0</td>\n",
       "      <td>0</td>\n",
       "      <td>0</td>\n",
       "      <td>3</td>\n",
       "      <td>1</td>\n",
       "    </tr>\n",
       "    <tr>\n",
       "      <th>2</th>\n",
       "      <td>1</td>\n",
       "      <td>1</td>\n",
       "      <td>40767</td>\n",
       "      <td>39924</td>\n",
       "      <td>99</td>\n",
       "      <td>13</td>\n",
       "      <td>39261</td>\n",
       "      <td>39629</td>\n",
       "      <td>39923</td>\n",
       "      <td>19421</td>\n",
       "      <td>...</td>\n",
       "      <td>0</td>\n",
       "      <td>0</td>\n",
       "      <td>0</td>\n",
       "      <td>39918</td>\n",
       "      <td>11111111111A1111111111</td>\n",
       "      <td>0</td>\n",
       "      <td>1711,65</td>\n",
       "      <td>0</td>\n",
       "      <td>3</td>\n",
       "      <td>1</td>\n",
       "    </tr>\n",
       "    <tr>\n",
       "      <th>3</th>\n",
       "      <td>1</td>\n",
       "      <td>1</td>\n",
       "      <td>40767</td>\n",
       "      <td>40043</td>\n",
       "      <td>9</td>\n",
       "      <td>13</td>\n",
       "      <td>39644</td>\n",
       "      <td>40042</td>\n",
       "      <td>40042</td>\n",
       "      <td>11858</td>\n",
       "      <td>...</td>\n",
       "      <td>0</td>\n",
       "      <td>0</td>\n",
       "      <td>0</td>\n",
       "      <td>40041</td>\n",
       "      <td>111111111111X</td>\n",
       "      <td>0</td>\n",
       "      <td>0</td>\n",
       "      <td>0</td>\n",
       "      <td>3</td>\n",
       "      <td>1</td>\n",
       "    </tr>\n",
       "    <tr>\n",
       "      <th>4</th>\n",
       "      <td>1</td>\n",
       "      <td>1</td>\n",
       "      <td>40767</td>\n",
       "      <td>40427</td>\n",
       "      <td>99</td>\n",
       "      <td>13</td>\n",
       "      <td>39942</td>\n",
       "      <td>40308</td>\n",
       "      <td>40429</td>\n",
       "      <td>19691</td>\n",
       "      <td>...</td>\n",
       "      <td>1</td>\n",
       "      <td>1</td>\n",
       "      <td>1</td>\n",
       "      <td>40436</td>\n",
       "      <td>11132A1111111111</td>\n",
       "      <td>0</td>\n",
       "      <td>6148,5</td>\n",
       "      <td>0</td>\n",
       "      <td>3</td>\n",
       "      <td>1</td>\n",
       "    </tr>\n",
       "  </tbody>\n",
       "</table>\n",
       "<p>5 rows × 28 columns</p>\n",
       "</div>"
      ],
      "text/plain": [
       "  tcs_customer_id bureau_cd bki_request_date inf_confirm_date type status  \\\n",
       "0               1         2            40767            40744   99     00   \n",
       "1               1         1            40767            39862   99     13   \n",
       "2               1         1            40767            39924   99     13   \n",
       "3               1         1            40767            40043    9     13   \n",
       "4               1         1            40767            40427   99     13   \n",
       "\n",
       "  open_date final_pmt_date fact_close_date credit_limit     ...       \\\n",
       "0     40676          41040                        28967     ...        \n",
       "1     39505          39870           39870        30000     ...        \n",
       "2     39261          39629           39923        19421     ...        \n",
       "3     39644          40042           40042        11858     ...        \n",
       "4     39942          40308           40429        19691     ...        \n",
       "\n",
       "  ttl_delq_30_59 ttl_delq_60_89 ttl_delq_90_plus pmt_string_start  \\\n",
       "0              0              0                0            40767   \n",
       "1              0              0                0            39857   \n",
       "2              0              0                0            39918   \n",
       "3              0              0                0            40041   \n",
       "4              1              1                1            40436   \n",
       "\n",
       "           pmt_string_84m delq_balance max_delq_balance interest_rate  \\\n",
       "0                    X111            0                0             0   \n",
       "1            111111111111            0                0             0   \n",
       "2  11111111111A1111111111            0          1711,65             0   \n",
       "3           111111111111X            0                0             0   \n",
       "4        11132A1111111111            0           6148,5             0   \n",
       "\n",
       "  pmt_freq relationship  \n",
       "0        3            1  \n",
       "1        3            1  \n",
       "2        3            1  \n",
       "3        3            1  \n",
       "4        3            1  \n",
       "\n",
       "[5 rows x 28 columns]"
      ]
     },
     "execution_count": 8,
     "metadata": {},
     "output_type": "execute_result"
    }
   ],
   "source": [
    "train = [row for row in customers if row[\"sample_type\"] == \"train\"]\n",
    "\n",
    "# features\n",
    "\n",
    "import pandas as pd\n",
    "\n",
    "df_acc = pd.DataFrame(accounts)\n",
    "df_acc.head()"
   ]
  },
  {
   "cell_type": "code",
   "execution_count": 11,
   "metadata": {},
   "outputs": [
    {
     "data": {
      "image/png": "[encoded data removed]",
      "text/plain": [
       "<matplotlib.figure.Figure at 0x7f0d2a8b1a90>"
      ]
     },
     "metadata": {},
     "output_type": "display_data"
    }
   ],
   "source": [
    "# time for copypaste from https://github.com/IdoZehori/Credit_Score/blob/master/Credit%20score.ipynb\n",
    "\n",
    "import seaborn as sns\n",
    "import matplotlib.pyplot as plt\n",
    "\n",
    "def add_freq():\n",
    "    ncount = len(df_acc)\n",
    "\n",
    "    ax2=ax.twinx()\n",
    "\n",
    "    ax2.yaxis.tick_left()\n",
    "    ax.yaxis.tick_right()\n",
    "\n",
    "    ax.yaxis.set_label_position('right')\n",
    "    ax2.yaxis.set_label_position('left')\n",
    "\n",
    "    ax2.set_ylabel('Frequency [%]')\n",
    "\n",
    "    for p in ax.patches:\n",
    "        x=p.get_bbox().get_points()[:,0]\n",
    "        y=p.get_bbox().get_points()[1,1]\n",
    "        ax.annotate('{:.1f}%'.format(100.*y/ncount), (x.mean(), y), \n",
    "                ha='center', va='bottom', clip_on=True)\n",
    "\n",
    "    ax2.set_ylim(0,100)\n",
    "    ax2.grid(None)\n",
    "    \n",
    "ax = sns.countplot(x = df_acc.ttl_delq_90_plus ,palette=\"Set3\")\n",
    "sns.set(font_scale=1.5)\n",
    "ax.set_ylim(top = 150000)\n",
    "ax.set_xlabel(' ')\n",
    "ax.set_ylabel(' ')\n",
    "fig = plt.gcf()\n",
    "fig.set_size_inches(10,5)\n",
    "ax.set_ylim(top=160000)\n",
    "\n",
    "add_freq()\n",
    "plt.show()"
   ]
  },
  {
   "cell_type": "code",
   "execution_count": 2,
   "metadata": {},
   "outputs": [
    {
     "ename": "NameError",
     "evalue": "name 'df_acc' is not defined",
     "output_type": "error",
     "traceback": [
      "\u001b[0;31m---------------------------------------------------------------------------\u001b[0m",
      "\u001b[0;31mNameError\u001b[0m                                 Traceback (most recent call last)",
      "\u001b[0;32m<ipython-input-2-61f3df678876>\u001b[0m in \u001b[0;36m<module>\u001b[0;34m()\u001b[0m\n\u001b[0;32m----> 1\u001b[0;31m \u001b[0mdf_acc\u001b[0m\u001b[0;34m.\u001b[0m\u001b[0mtcs_customer_id\u001b[0m\u001b[0;34m.\u001b[0m\u001b[0mdrop_duplicates\u001b[0m\u001b[0;34m(\u001b[0m\u001b[0;34m)\u001b[0m\u001b[0;34m.\u001b[0m\u001b[0mcount\u001b[0m\u001b[0;34m(\u001b[0m\u001b[0;34m)\u001b[0m\u001b[0;34m\u001b[0m\u001b[0m\n\u001b[0m",
      "\u001b[0;31mNameError\u001b[0m: name 'df_acc' is not defined"
     ]
    }
   ],
   "source": [
    "df_acc.tcs_customer_id.drop_duplicates().count()"
   ]
  },
  {
   "cell_type": "code",
   "execution_count": null,
   "metadata": {
    "collapsed": true
   },
   "outputs": [],
   "source": []
  }
 ],
 "metadata": {
  "kernelspec": {
   "display_name": "Python 3",
   "language": "python",
   "name": "python3"
  },
  "language_info": {
   "codemirror_mode": {
    "name": "ipython",
    "version": 3
   },
   "file_extension": ".py",
   "mimetype": "text/x-python",
   "name": "python",
   "nbconvert_exporter": "python",
   "pygments_lexer": "ipython3",
   "version": "3.6.3"
  }
 },
 "nbformat": 4,
 "nbformat_minor": 2
}
