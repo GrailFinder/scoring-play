{
 "cells": [
  {
   "cell_type": "code",
   "execution_count": 17,
   "metadata": {
    "collapsed": true
   },
   "outputs": [],
   "source": [
    "%matplotlib inline\n",
    "\"\"\"\n",
    "Exercise 1: Bayesian A testing for Swedish Fish Incorporated (B comes later)\n",
    "Rasmus Bååth (adapted for Python by Christophe Carvenius)\n",
    "\n",
    "Swedish Fish Incorporated is the largest Swedish company delivering fish by mail order.\n",
    "They are now trying to get into the lucrative Danish market by selling one year Salmon subscriptions.\n",
    "The marketing department have done a pilot study and tried the following marketing method:\n",
    "\n",
    "A: Sending a mail with a colorful brochure that invites people to sign up for a one year salmon subscription.\n",
    "\n",
    "The marketing department sent out 16 mails of type A. Six Danes that received a mail signed up\n",
    "for one year of salmon and marketing now wants to know, how good is method A?\n",
    "\n",
    "At the bottom of this document you’ll find a solution. But try yourself first!\n",
    "Question I, Build a Bayesian model that answers the question:\n",
    "What would the rate of sign-up be if method A was used on a larger number of people?\n",
    "\"\"\"\n",
    "#https://github.com/rasmusab/bayesianprobabilitiesworkshop/blob/master/Exercise%201.ipynb\n",
    "\n",
    "import numpy as np\n",
    "import pandas as pd"
   ]
  },
  {
   "cell_type": "code",
   "execution_count": 18,
   "metadata": {},
   "outputs": [
    {
     "name": "stdout",
     "output_type": "stream",
     "text": [
      "Number of draws left: 580, Posterior mean: 0.381, Posterior median: 0.375, Posterior 95% quantile interval: 0.201-0.566\n"
     ]
    },
    {
     "data": {
      "image/png": "[encoded data removed]",
      "text/plain": [
       "<matplotlib.figure.Figure at 0x7f92f6e08940>"
      ]
     },
     "metadata": {},
     "output_type": "display_data"
    }
   ],
   "source": [
    "n_draw = 10000\n",
    "\n",
    "# Defining and drawing from the prior distribution \n",
    "prior_rate = pd.Series(np.random.uniform(0, 1, size = n_draw)) \n",
    "\n",
    "# It's always good to eyeball the prior to make sure it looks ok.\n",
    "prior_rate.hist()\n",
    "\n",
    "# Defining the generative model\n",
    "def gen_model(prob):\n",
    "    return(np.random.binomial(16, prob))\n",
    "                    \n",
    "# Observed data\n",
    "observed_data = 6\n",
    "\n",
    "# Here you filter off all draws that do not match the data.\n",
    "post_rate = prior_rate[gen_model(prior_rate) == observed_data]\n",
    "\n",
    "post_rate.hist() # Eyeball the posterior\n",
    "\n",
    "print('Number of draws left: %d, Posterior mean: %.3f, Posterior median: %.3f, Posterior 95%% quantile interval: %.3f-%.3f' % \n",
    "      (len(post_rate), post_rate.mean(), post_rate.median(), post_rate.quantile(.05), post_rate.quantile(.95)))"
   ]
  },
  {
   "cell_type": "code",
   "execution_count": 19,
   "metadata": {},
   "outputs": [
    {
     "data": {
      "text/plain": [
       "'probability that method A has highest rate than telemarketing 0.9534482758620689'"
      ]
     },
     "execution_count": 19,
     "metadata": {},
     "output_type": "execute_result"
    }
   ],
   "source": [
    "\"\"\"Question II, What’s the probability that method A is better than telemarketing?\n",
    "So marketing just told us that the rate of sign-up would be 20%\n",
    "if salmon subscribers were snared by a telemarketing campaign instead\n",
    "(to us it’s very unclear where marketing got this very precise number from).\n",
    "So given the model and the data that we developed in the last question,\n",
    "what’s the probability that method A has a higher rate of sign-up than telemarketing?\"\"\"\n",
    "\n",
    "f\"probability that method A has highest rate than telemarketing {sum(post_rate > 0.2) / len(post_rate)}\""
   ]
  },
  {
   "cell_type": "code",
   "execution_count": 25,
   "metadata": {},
   "outputs": [
    {
     "name": "stdout",
     "output_type": "stream",
     "text": [
      "95% interval: [ 18.  59.]\n"
     ]
    },
    {
     "data": {
      "image/png": "[encoded data removed]",
      "text/plain": [
       "<matplotlib.figure.Figure at 0x7f92f0be4ba8>"
      ]
     },
     "metadata": {},
     "output_type": "display_data"
    }
   ],
   "source": [
    "\"\"\"Question III, If method A was used on 100 people what would be number of sign-ups?\"\"\"\n",
    "sign100 = pd.Series([np.random.binomial(100, p) for p in post_rate])\n",
    "\n",
    "sign100.hist()\n",
    "print(\"95% interval:\", sign100.quantile([.05, .95]).values)"
   ]
  },
  {
   "cell_type": "code",
   "execution_count": 44,
   "metadata": {},
   "outputs": [
    {
     "name": "stdout",
     "output_type": "stream",
     "text": [
      "562 580\n",
      "0    0.680625\n",
      "1    0.552453\n",
      "2    0.761792\n",
      "3    0.583474\n",
      "4    0.660888\n",
      "dtype: float64 0    0.496051\n",
      "1    0.558065\n",
      "2    0.396501\n",
      "3    0.517617\n",
      "4    0.548191\n",
      "dtype: float64\n"
     ]
    },
    {
     "data": {
      "image/png": "[encoded data removed]",
      "text/plain": [
       "<matplotlib.figure.Figure at 0x7f92f0b56860>"
      ]
     },
     "metadata": {},
     "output_type": "display_data"
    }
   ],
   "source": [
    "\"\"\"\n",
    "Exercise 2: Bayesian A/B testing for Swedish Fish Incorporated\n",
    "The marketing department have done a pilot study and tried two different marketing methods:\n",
    "A: Sending a mail with a colorful brochure that invites people to sign up for a one year salmon subscription.\n",
    "B: Sending a colorful brochure that invites people to sign up for a one year salmon subscription\n",
    "and that includes a free salmon.\n",
    "\n",
    "The marketing department sent out 16 mails of type A and 16 mails of type B.\n",
    "Six Danes that received a mail of type A signed up for one year of salmon,\n",
    "and ten Danes that received a mail of type B signed up!\n",
    "\n",
    "The marketing department now wants to know, which method should we use, A or B?\n",
    "\n",
    "Question 1: Build a Bayesian model in Stan that answers the question:\n",
    "What is the probability that method B is better than method A?\n",
    "\"\"\"\n",
    "\n",
    "observed_b = 10\n",
    "\n",
    "posterior_b = prior_rate[gen_model(prior_rate) == observed_b]\n",
    "posterior_b.hist()\n",
    "\n",
    "#index problem\n",
    "\n",
    "post_rate.reset_index(drop=True, inplace=True)\n",
    "posterior_b.reset_index(drop=True, inplace=True)\n",
    "\n",
    "post_diff = posterior_b - post_rate # post_data = posterior of method A\n",
    "#print(post_diff.mean, post_diff.median, post_diff.quantile([.05, .95]))\n",
    "print(len(posterior_b), len(post_rate))"
   ]
  },
  {
   "cell_type": "code",
   "execution_count": 51,
   "metadata": {},
   "outputs": [
    {
     "name": "stdout",
     "output_type": "stream",
     "text": [
      "Number of draws: 562, mean: 0.223, median: 0.223, 95% quantile interval: -0.042:0.485\n",
      "Method B better than A in avg: 0.9128113879\n",
      "Method B better than A in avg: True\n"
     ]
    },
    {
     "data": {
      "image/png": "[encoded data removed]",
      "text/plain": [
       "<matplotlib.figure.Figure at 0x7f92f6dbdda0>"
      ]
     },
     "metadata": {},
     "output_type": "display_data"
    }
   ],
   "source": [
    "post_diff.dropna(inplace=True)\n",
    "#post_diff.plot()\n",
    "post_diff.hist()\n",
    "print('Number of draws: %d, mean: %.3f, median: %.3f, 95%% quantile interval: %.3f:%.3f' % \n",
    "      (len(post_diff), post_diff.mean(), post_diff.median(), post_diff.quantile(.05), post_diff.quantile(.95)))\n",
    "print(\"Method B better than A on average:\", np.mean(post_diff > 0))"
   ]
  },
  {
   "cell_type": "code",
   "execution_count": 74,
   "metadata": {},
   "outputs": [
    {
     "data": {
      "text/plain": [
       "<matplotlib.axes._subplots.AxesSubplot at 0x7f92f65bdb00>"
      ]
     },
     "execution_count": 74,
     "metadata": {},
     "output_type": "execute_result"
    },
    {
     "data": {
      "image/png": "[encoded data removed]",
      "text/plain": [
       "<matplotlib.figure.Figure at 0x7f92f64fca20>"
      ]
     },
     "metadata": {},
     "output_type": "display_data"
    }
   ],
   "source": [
    "\"\"\"\n",
    "Question 2: Change the model so that it uses a more informative prior.\n",
    "What is now the probability that method B is better than method A?\n",
    "\n",
    "The marketing department are starting to believe that it was a fluke\n",
    "that such a large proportion of the Danes signed up.\n",
    "In all other European markets the proportion that signs up\n",
    "for a year of salmon is around 5% to 15%, even when given a free salmon.\n",
    "Use this information and make the priors in your model more informative.\"\"\"\n",
    "\n",
    "# I have to use 1mln, coz 10k wont generate cases for B method\n",
    "init_belief = pd.Series(np.random.beta(a=3.5, b=35, size=1000000)) \n",
    "init_belief.hist(bins=60)"
   ]
  },
  {
   "cell_type": "code",
   "execution_count": 75,
   "metadata": {},
   "outputs": [
    {
     "name": "stdout",
     "output_type": "stream",
     "text": [
      "Number of draws left: 6975, Posterior mean: 0.175, Posterior median: 0.171, Posterior 95% quantile interval: 0.098-0.266\n"
     ]
    },
    {
     "data": {
      "image/png": "[encoded data removed]",
      "text/plain": [
       "<matplotlib.figure.Figure at 0x7f92f6487550>"
      ]
     },
     "metadata": {},
     "output_type": "display_data"
    }
   ],
   "source": [
    "# Here you filter off all draws that do not match the data.\n",
    "posterior_a = init_belief[gen_model(init_belief) == observed_data]\n",
    "\n",
    "posterior_a.hist(bins=15) # Eyeball the posterior\n",
    "\n",
    "print('Number of draws left: %d, Posterior mean: %.3f, Posterior median: %.3f, Posterior 95%% quantile interval: %.3f-%.3f' % \n",
    "      (len(posterior_a), posterior_a.mean(), posterior_a.median(), posterior_a.quantile(.05), posterior_a.quantile(.95)))"
   ]
  },
  {
   "cell_type": "code",
   "execution_count": 76,
   "metadata": {},
   "outputs": [
    {
     "name": "stdout",
     "output_type": "stream",
     "text": [
      "Number of draws left: 29, Posterior mean: 0.247, Posterior median: 0.243, Posterior 95% quantile interval: 0.181-0.341\n"
     ]
    },
    {
     "data": {
      "image/png": "[encoded data removed]",
      "text/plain": [
       "<matplotlib.figure.Figure at 0x7f92f67bfa58>"
      ]
     },
     "metadata": {},
     "output_type": "display_data"
    }
   ],
   "source": [
    "\n",
    "posterior_new_b = init_belief[gen_model(init_belief) == observed_b]\n",
    "posterior_new_b.hist()\n",
    "print('Number of draws left: %d, Posterior mean: %.3f, Posterior median: %.3f, Posterior 95%% quantile interval: %.3f-%.3f' % \n",
    "      (len(posterior_new_b), posterior_new_b.mean(), posterior_new_b.median(), posterior_new_b.quantile(.05), posterior_new_b.quantile(.95)))"
   ]
  },
  {
   "cell_type": "code",
   "execution_count": 84,
   "metadata": {},
   "outputs": [
    {
     "name": "stdout",
     "output_type": "stream",
     "text": [
      "count   -6946.000000\n",
      "mean        0.071829\n",
      "std        -0.003460\n",
      "min         0.131117\n",
      "25%         0.077872\n",
      "50%         0.072528\n",
      "75%         0.057783\n",
      "max        -0.025269\n",
      "dtype: float64\n",
      "0.625\n"
     ]
    }
   ],
   "source": [
    "new_diff = posterior_new_b.describe() - posterior_a.describe()\n",
    "print(new_diff)\n",
    "print(\"-\" * 55)\n",
    "print(np.mean(new_diff > 0))"
   ]
  },
  {
   "cell_type": "code",
   "execution_count": 93,
   "metadata": {},
   "outputs": [
    {
     "name": "stdout",
     "output_type": "stream",
     "text": [
      "mean: 145.0306717718746; 95% quantile interval: 67.51-235.86\n"
     ]
    },
    {
     "data": {
      "image/png": "[encoded data removed]",
      "text/plain": [
       "<matplotlib.figure.Figure at 0x7f92f5f57b00>"
      ]
     },
     "metadata": {},
     "output_type": "display_data"
    }
   ],
   "source": [
    "\"\"\"Question 3: So what should we do? Make a simple decision analysis.\n",
    "\n",
    "The economy department gives you the following information:\n",
    "\n",
    "    A mail of type A costs 30 kr to send out.\n",
    "    A mail of type B costs 300 kr to send out (due to the cost of the free salmon).\n",
    "    A salmon subscription brings in 1000 kr in revenue. Which method,\n",
    "    A or B, is most likely to make Swedish Fish Incorporated the most money?\n",
    "\"\"\"\n",
    "\n",
    "profitA = -30 + posterior_a * 1000 \n",
    "profitB = -300 + posterior_new_b * 1000\n",
    "\n",
    "profitA.hist()\n",
    "print(\"mean: {}; 95% quantile interval: {:.2f}-{:.2f}\".format(np.mean(profitA), profitA.quantile(.05), profitA.quantile(.95)))"
   ]
  },
  {
   "cell_type": "code",
   "execution_count": 94,
   "metadata": {},
   "outputs": [
    {
     "name": "stdout",
     "output_type": "stream",
     "text": [
      "mean: -53.140242312461496; 95% quantile interval: -118.65-40.76\n"
     ]
    },
    {
     "data": {
      "image/png": "[encoded data removed]",
      "text/plain": [
       "<matplotlib.figure.Figure at 0x7f92f63915c0>"
      ]
     },
     "metadata": {},
     "output_type": "display_data"
    }
   ],
   "source": [
    "profitB.hist()\n",
    "print(\"mean: {}; 95% quantile interval: {:.2f}-{:.2f}\".format(np.mean(profitB), profitB.quantile(.05), profitB.quantile(.95)))"
   ]
  },
  {
   "cell_type": "code",
   "execution_count": null,
   "metadata": {
    "collapsed": true
   },
   "outputs": [],
   "source": [
    "# It seems that method A would be more profitable"
   ]
  }
 ],
 "metadata": {},
 "nbformat": 4,
 "nbformat_minor": 2
}
